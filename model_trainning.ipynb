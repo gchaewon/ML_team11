{
  "cells": [
    {
      "cell_type": "markdown",
      "metadata": {
        "id": "view-in-github",
        "colab_type": "text"
      },
      "source": [
        "<a href=\"https://colab.research.google.com/github/gchaewon/ML_team11/blob/main/model_trainning.ipynb\" target=\"_parent\"><img src=\"https://colab.research.google.com/assets/colab-badge.svg\" alt=\"Open In Colab\"/></a>"
      ]
    },
    {
      "cell_type": "markdown",
      "metadata": {
        "id": "2YY3xlrAmlND"
      },
      "source": [
        "Download the dataset"
      ]
    },
    {
      "cell_type": "code",
      "source": [
        "# open-multi\n",
        "!wget --no-check-certificate 'https://docs.google.com/uc?export=download&id=1R8MNL6ztBm5ykKqIPZskZOYnF6Kcn6Nn' -O open_multi_data.csv\n",
        "!wget --no-check-certificate 'https://docs.google.com/uc?export=download&id=15oaaaUVQN9TUEP_Cg5f5c_9UFTQhXIgn' -O open_multi_target.csv\n",
        "\n",
        "# open-bi\n",
        "!wget --no-check-certificate 'https://docs.google.com/uc?export=download&id=1WY65vRs2IrnRAau0N2-bfDHs8SI4xtz8' -O open_bi_data.csv\n",
        "!wget --no-check-certificate 'https://docs.google.com/uc?export=download&id=16K2l41cwOLhKr8ZO4sGjiiHtjbh47ksR' -O open_bi_target.csv\n",
        "\n",
        "#closed\n",
        "!wget --no-check-certificate 'https://docs.google.com/uc?export=download&id=1b95exRz8srcc_2_NV3fRta-6RGbrWtW4' -O closed_data.csv\n",
        "!wget --no-check-certificate 'https://docs.google.com/uc?export=download&id=1Xh2L-34sucnBm5ISkQIwguo2o_etzihX' -O closed_target.csv\n"
      ],
      "metadata": {
        "colab": {
          "base_uri": "https://localhost:8080/"
        },
        "id": "C2RCNuZKOtAC",
        "outputId": "daa0e87a-c60a-4c2a-8d7a-53516a504789"
      },
      "execution_count": 14,
      "outputs": [
        {
          "output_type": "stream",
          "name": "stdout",
          "text": [
            "--2023-12-10 15:08:44--  https://docs.google.com/uc?export=download&id=1R8MNL6ztBm5ykKqIPZskZOYnF6Kcn6Nn\n",
            "Resolving docs.google.com (docs.google.com)... 173.194.202.101, 173.194.202.100, 173.194.202.102, ...\n",
            "Connecting to docs.google.com (docs.google.com)|173.194.202.101|:443... connected.\n",
            "HTTP request sent, awaiting response... 303 See Other\n",
            "Location: https://doc-04-ac-docs.googleusercontent.com/docs/securesc/ha0ro937gcuc7l7deffksulhg5h7mbp1/u21jv3o50nqmhri8daq9prf8luqbnno9/1702220925000/02545855121528690953/*/1R8MNL6ztBm5ykKqIPZskZOYnF6Kcn6Nn?e=download&uuid=fc47457d-8c56-4d41-bc42-b0eac305992e [following]\n",
            "Warning: wildcards not supported in HTTP.\n",
            "--2023-12-10 15:08:45--  https://doc-04-ac-docs.googleusercontent.com/docs/securesc/ha0ro937gcuc7l7deffksulhg5h7mbp1/u21jv3o50nqmhri8daq9prf8luqbnno9/1702220925000/02545855121528690953/*/1R8MNL6ztBm5ykKqIPZskZOYnF6Kcn6Nn?e=download&uuid=fc47457d-8c56-4d41-bc42-b0eac305992e\n",
            "Resolving doc-04-ac-docs.googleusercontent.com (doc-04-ac-docs.googleusercontent.com)... 74.125.199.132, 2607:f8b0:400e:c02::84\n",
            "Connecting to doc-04-ac-docs.googleusercontent.com (doc-04-ac-docs.googleusercontent.com)|74.125.199.132|:443... connected.\n",
            "HTTP request sent, awaiting response... 200 OK\n",
            "Length: 10447584 (10.0M) [text/csv]\n",
            "Saving to: ‘open_multi_data.csv’\n",
            "\n",
            "open_multi_data.csv 100%[===================>]   9.96M  --.-KB/s    in 0.06s   \n",
            "\n",
            "2023-12-10 15:08:45 (168 MB/s) - ‘open_multi_data.csv’ saved [10447584/10447584]\n",
            "\n",
            "--2023-12-10 15:08:45--  https://docs.google.com/uc?export=download&id=15oaaaUVQN9TUEP_Cg5f5c_9UFTQhXIgn\n",
            "Resolving docs.google.com (docs.google.com)... 173.194.202.101, 173.194.202.100, 173.194.202.102, ...\n",
            "Connecting to docs.google.com (docs.google.com)|173.194.202.101|:443... connected.\n",
            "HTTP request sent, awaiting response... 303 See Other\n",
            "Location: https://doc-08-ac-docs.googleusercontent.com/docs/securesc/ha0ro937gcuc7l7deffksulhg5h7mbp1/ev8dmhu952blj8cpj8vndqh3fke2mbto/1702220925000/02545855121528690953/*/15oaaaUVQN9TUEP_Cg5f5c_9UFTQhXIgn?e=download&uuid=5f039f6b-b6f8-4343-ad85-8d9043c865b7 [following]\n",
            "Warning: wildcards not supported in HTTP.\n",
            "--2023-12-10 15:08:46--  https://doc-08-ac-docs.googleusercontent.com/docs/securesc/ha0ro937gcuc7l7deffksulhg5h7mbp1/ev8dmhu952blj8cpj8vndqh3fke2mbto/1702220925000/02545855121528690953/*/15oaaaUVQN9TUEP_Cg5f5c_9UFTQhXIgn?e=download&uuid=5f039f6b-b6f8-4343-ad85-8d9043c865b7\n",
            "Resolving doc-08-ac-docs.googleusercontent.com (doc-08-ac-docs.googleusercontent.com)... 74.125.199.132, 2607:f8b0:400e:c02::84\n",
            "Connecting to doc-08-ac-docs.googleusercontent.com (doc-08-ac-docs.googleusercontent.com)|74.125.199.132|:443... connected.\n",
            "HTTP request sent, awaiting response... 200 OK\n",
            "Length: 85009 (83K) [text/csv]\n",
            "Saving to: ‘open_multi_target.csv’\n",
            "\n",
            "open_multi_target.c 100%[===================>]  83.02K  --.-KB/s    in 0s      \n",
            "\n",
            "2023-12-10 15:08:46 (171 MB/s) - ‘open_multi_target.csv’ saved [85009/85009]\n",
            "\n",
            "--2023-12-10 15:08:46--  https://docs.google.com/uc?export=download&id=1WY65vRs2IrnRAau0N2-bfDHs8SI4xtz8\n",
            "Resolving docs.google.com (docs.google.com)... 173.194.202.101, 173.194.202.100, 173.194.202.102, ...\n",
            "Connecting to docs.google.com (docs.google.com)|173.194.202.101|:443... connected.\n",
            "HTTP request sent, awaiting response... 303 See Other\n",
            "Location: https://doc-0k-ac-docs.googleusercontent.com/docs/securesc/ha0ro937gcuc7l7deffksulhg5h7mbp1/rjs2884ja5lmai13j0fdhbvur7cpckua/1702220925000/02545855121528690953/*/1WY65vRs2IrnRAau0N2-bfDHs8SI4xtz8?e=download&uuid=794ee2e4-798d-49be-897a-e48422588c47 [following]\n",
            "Warning: wildcards not supported in HTTP.\n",
            "--2023-12-10 15:08:46--  https://doc-0k-ac-docs.googleusercontent.com/docs/securesc/ha0ro937gcuc7l7deffksulhg5h7mbp1/rjs2884ja5lmai13j0fdhbvur7cpckua/1702220925000/02545855121528690953/*/1WY65vRs2IrnRAau0N2-bfDHs8SI4xtz8?e=download&uuid=794ee2e4-798d-49be-897a-e48422588c47\n",
            "Resolving doc-0k-ac-docs.googleusercontent.com (doc-0k-ac-docs.googleusercontent.com)... 74.125.199.132, 2607:f8b0:400e:c02::84\n",
            "Connecting to doc-0k-ac-docs.googleusercontent.com (doc-0k-ac-docs.googleusercontent.com)|74.125.199.132|:443... connected.\n",
            "HTTP request sent, awaiting response... 200 OK\n",
            "Length: 10707958 (10M) [text/csv]\n",
            "Saving to: ‘open_bi_data.csv’\n",
            "\n",
            "open_bi_data.csv    100%[===================>]  10.21M  58.0MB/s    in 0.2s    \n",
            "\n",
            "2023-12-10 15:08:47 (58.0 MB/s) - ‘open_bi_data.csv’ saved [10707958/10707958]\n",
            "\n",
            "--2023-12-10 15:08:47--  https://docs.google.com/uc?export=download&id=16K2l41cwOLhKr8ZO4sGjiiHtjbh47ksR\n",
            "Resolving docs.google.com (docs.google.com)... 173.194.202.101, 173.194.202.100, 173.194.202.102, ...\n",
            "Connecting to docs.google.com (docs.google.com)|173.194.202.101|:443... connected.\n",
            "HTTP request sent, awaiting response... 303 See Other\n",
            "Location: https://doc-00-ac-docs.googleusercontent.com/docs/securesc/ha0ro937gcuc7l7deffksulhg5h7mbp1/rje2bb0rjek392ijj7kaj7d6ujmplnus/1702220925000/02545855121528690953/*/16K2l41cwOLhKr8ZO4sGjiiHtjbh47ksR?e=download&uuid=adef7db0-ec4a-450d-9de5-9f761416d6e5 [following]\n",
            "Warning: wildcards not supported in HTTP.\n",
            "--2023-12-10 15:08:47--  https://doc-00-ac-docs.googleusercontent.com/docs/securesc/ha0ro937gcuc7l7deffksulhg5h7mbp1/rje2bb0rjek392ijj7kaj7d6ujmplnus/1702220925000/02545855121528690953/*/16K2l41cwOLhKr8ZO4sGjiiHtjbh47ksR?e=download&uuid=adef7db0-ec4a-450d-9de5-9f761416d6e5\n",
            "Resolving doc-00-ac-docs.googleusercontent.com (doc-00-ac-docs.googleusercontent.com)... 74.125.199.132, 2607:f8b0:400e:c02::84\n",
            "Connecting to doc-00-ac-docs.googleusercontent.com (doc-00-ac-docs.googleusercontent.com)|74.125.199.132|:443... connected.\n",
            "HTTP request sent, awaiting response... 200 OK\n",
            "Length: 68009 (66K) [text/csv]\n",
            "Saving to: ‘open_bi_target.csv’\n",
            "\n",
            "open_bi_target.csv  100%[===================>]  66.42K  --.-KB/s    in 0s      \n",
            "\n",
            "2023-12-10 15:08:47 (133 MB/s) - ‘open_bi_target.csv’ saved [68009/68009]\n",
            "\n",
            "--2023-12-10 15:08:47--  https://docs.google.com/uc?export=download&id=1b95exRz8srcc_2_NV3fRta-6RGbrWtW4\n",
            "Resolving docs.google.com (docs.google.com)... 173.194.202.101, 173.194.202.100, 173.194.202.102, ...\n",
            "Connecting to docs.google.com (docs.google.com)|173.194.202.101|:443... connected.\n",
            "HTTP request sent, awaiting response... 303 See Other\n",
            "Location: https://doc-04-ac-docs.googleusercontent.com/docs/securesc/ha0ro937gcuc7l7deffksulhg5h7mbp1/3ed2gq32otov1r10lp31q0862524egcm/1702220925000/02545855121528690953/*/1b95exRz8srcc_2_NV3fRta-6RGbrWtW4?e=download&uuid=f38c821b-c225-4cf3-888d-6656f6697eee [following]\n",
            "Warning: wildcards not supported in HTTP.\n",
            "--2023-12-10 15:08:48--  https://doc-04-ac-docs.googleusercontent.com/docs/securesc/ha0ro937gcuc7l7deffksulhg5h7mbp1/3ed2gq32otov1r10lp31q0862524egcm/1702220925000/02545855121528690953/*/1b95exRz8srcc_2_NV3fRta-6RGbrWtW4?e=download&uuid=f38c821b-c225-4cf3-888d-6656f6697eee\n",
            "Resolving doc-04-ac-docs.googleusercontent.com (doc-04-ac-docs.googleusercontent.com)... 74.125.199.132, 2607:f8b0:400e:c02::84\n",
            "Connecting to doc-04-ac-docs.googleusercontent.com (doc-04-ac-docs.googleusercontent.com)|74.125.199.132|:443... connected.\n",
            "HTTP request sent, awaiting response... 200 OK\n",
            "Length: 6756467 (6.4M) [text/csv]\n",
            "Saving to: ‘closed_data.csv’\n",
            "\n",
            "closed_data.csv     100%[===================>]   6.44M  --.-KB/s    in 0.05s   \n",
            "\n",
            "2023-12-10 15:08:48 (130 MB/s) - ‘closed_data.csv’ saved [6756467/6756467]\n",
            "\n",
            "--2023-12-10 15:08:48--  https://docs.google.com/uc?export=download&id=1Xh2L-34sucnBm5ISkQIwguo2o_etzihX\n",
            "Resolving docs.google.com (docs.google.com)... 173.194.202.101, 173.194.202.100, 173.194.202.102, ...\n",
            "Connecting to docs.google.com (docs.google.com)|173.194.202.101|:443... connected.\n",
            "HTTP request sent, awaiting response... 303 See Other\n",
            "Location: https://doc-08-ac-docs.googleusercontent.com/docs/securesc/ha0ro937gcuc7l7deffksulhg5h7mbp1/38n5gumj7fl57l1gek300rfa52nmal2p/1702220925000/02545855121528690953/*/1Xh2L-34sucnBm5ISkQIwguo2o_etzihX?e=download&uuid=705d5b53-5596-4cb3-8afc-28b2cdc7d86b [following]\n",
            "Warning: wildcards not supported in HTTP.\n",
            "--2023-12-10 15:08:49--  https://doc-08-ac-docs.googleusercontent.com/docs/securesc/ha0ro937gcuc7l7deffksulhg5h7mbp1/38n5gumj7fl57l1gek300rfa52nmal2p/1702220925000/02545855121528690953/*/1Xh2L-34sucnBm5ISkQIwguo2o_etzihX?e=download&uuid=705d5b53-5596-4cb3-8afc-28b2cdc7d86b\n",
            "Resolving doc-08-ac-docs.googleusercontent.com (doc-08-ac-docs.googleusercontent.com)... 74.125.199.132, 2607:f8b0:400e:c02::84\n",
            "Connecting to doc-08-ac-docs.googleusercontent.com (doc-08-ac-docs.googleusercontent.com)|74.125.199.132|:443... connected.\n",
            "HTTP request sent, awaiting response... 200 OK\n",
            "Length: 55009 (54K) [text/csv]\n",
            "Saving to: ‘closed_target.csv’\n",
            "\n",
            "closed_target.csv   100%[===================>]  53.72K  --.-KB/s    in 0.001s  \n",
            "\n",
            "2023-12-10 15:08:49 (86.4 MB/s) - ‘closed_target.csv’ saved [55009/55009]\n",
            "\n"
          ]
        }
      ]
    },
    {
      "cell_type": "code",
      "execution_count": 15,
      "metadata": {
        "id": "49MRt1H_yScr"
      },
      "outputs": [],
      "source": [
        "import pandas as pd\n",
        "import numpy as np\n",
        "from sklearn.ensemble import RandomForestClassifier\n",
        "from sklearn.neighbors import KNeighborsClassifier\n",
        "from sklearn.model_selection import train_test_split\n",
        "from sklearn.metrics import accuracy_score, classification_report, confusion_matrix\n",
        "from sklearn.preprocessing import StandardScaler"
      ]
    },
    {
      "cell_type": "code",
      "execution_count": 16,
      "metadata": {
        "id": "jhRyeSjrybcL"
      },
      "outputs": [],
      "source": [
        "def load_data(model_type):\n",
        "    data = pd.read_csv(model_type+'_data.csv')\n",
        "    target = pd.read_csv(model_type+'_target.csv')\n",
        "    return data, target"
      ]
    },
    {
      "cell_type": "code",
      "execution_count": 17,
      "metadata": {
        "id": "wHxIQ1J-z6aN"
      },
      "outputs": [],
      "source": [
        "def run_model(model_type):\n",
        "    data, target = load_data(model_type)\n",
        "    X, y = np.array(data), np.array(target).ravel()\n",
        "\n",
        "    X_train, X_test, y_train, y_test = train_test_split(X, y, test_size=0.20, random_state=0)\n",
        "\n",
        "    # RF\n",
        "    rf = RandomForestClassifier(n_estimators=100, random_state=42)\n",
        "    rf.fit(np.array(X_train), y_train)\n",
        "    y_pred = rf.predict(X_test)\n",
        "    print(\"RF Accuracy:\", accuracy_score(y_test, y_pred))\n",
        "\n",
        "    # scaling for knn\n",
        "    sc = StandardScaler()\n",
        "    X_train = sc.fit_transform(X_train)\n",
        "    X_test = sc.transform(X_test)\n",
        "\n",
        "    # KNN\n",
        "    knn = KNeighborsClassifier(n_neighbors = 5)\n",
        "    knn.fit(X_train, y_train)\n",
        "    y_pred = knn.predict(X_test)\n",
        "    print(\"KNN Accuracy:\", accuracy_score(y_test, y_pred))"
      ]
    },
    {
      "cell_type": "code",
      "execution_count": 18,
      "metadata": {
        "colab": {
          "base_uri": "https://localhost:8080/"
        },
        "id": "jsm9IqUR0YiT",
        "outputId": "065ce812-6b33-4c2b-d5f0-5855ce11a54c"
      },
      "outputs": [
        {
          "output_type": "stream",
          "name": "stdout",
          "text": [
            "closed\n",
            "RF Accuracy: 0.8147368421052632\n",
            "KNN Accuracy: 0.6781578947368421\n"
          ]
        }
      ],
      "source": [
        "print('closed')\n",
        "run_model('closed')"
      ]
    },
    {
      "cell_type": "code",
      "execution_count": 19,
      "metadata": {
        "colab": {
          "base_uri": "https://localhost:8080/"
        },
        "id": "9IyABBIY4y8y",
        "outputId": "bfa9c5f0-17fa-42cb-c6f7-a8c848961ef0"
      },
      "outputs": [
        {
          "output_type": "stream",
          "name": "stdout",
          "text": [
            "open_multi\n",
            "RF Accuracy: 0.8103448275862069\n",
            "KNN Accuracy: 0.6922413793103448\n"
          ]
        }
      ],
      "source": [
        "print('open_multi')\n",
        "run_model('open_multi')"
      ]
    },
    {
      "cell_type": "code",
      "execution_count": 20,
      "metadata": {
        "colab": {
          "base_uri": "https://localhost:8080/"
        },
        "id": "abTgFnPz42IN",
        "outputId": "5504f3c9-6ea3-418c-9dd1-62eba3d9b4be"
      },
      "outputs": [
        {
          "output_type": "stream",
          "name": "stdout",
          "text": [
            "open_bi\n",
            "RF Accuracy: 0.9196551724137931\n",
            "KNN Accuracy: 0.843103448275862\n"
          ]
        }
      ],
      "source": [
        "print('open_bi')\n",
        "run_model('open_bi')"
      ]
    }
  ],
  "metadata": {
    "accelerator": "GPU",
    "colab": {
      "gpuType": "T4",
      "provenance": [],
      "include_colab_link": true
    },
    "kernelspec": {
      "display_name": "Python 3",
      "name": "python3"
    },
    "language_info": {
      "codemirror_mode": {
        "name": "ipython",
        "version": 3
      },
      "file_extension": ".py",
      "mimetype": "text/x-python",
      "name": "python",
      "nbconvert_exporter": "python",
      "pygments_lexer": "ipython3",
      "version": "3.11.5"
    }
  },
  "nbformat": 4,
  "nbformat_minor": 0
}